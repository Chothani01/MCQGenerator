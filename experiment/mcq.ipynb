{
 "cells": [
  {
   "cell_type": "code",
   "execution_count": 8,
   "id": "11dcff43",
   "metadata": {},
   "outputs": [
    {
     "data": {
      "text/plain": [
       "True"
      ]
     },
     "execution_count": 8,
     "metadata": {},
     "output_type": "execute_result"
    }
   ],
   "source": [
    "from langchain_groq import ChatGroq\n",
    "from dotenv import load_dotenv\n",
    "\n",
    "load_dotenv()"
   ]
  },
  {
   "cell_type": "code",
   "execution_count": 9,
   "id": "6710e590",
   "metadata": {},
   "outputs": [],
   "source": [
    "llm = ChatGroq(model=\"openai/gpt-oss-20b\")"
   ]
  },
  {
   "cell_type": "code",
   "execution_count": 28,
   "id": "f91c6a39",
   "metadata": {},
   "outputs": [],
   "source": [
    "from langchain_core.prompts import PromptTemplate\n",
    "from langchain.chains import LLMChain, SequentialChain\n",
    "from langchain.callbacks import get_openai_callback\n",
    "import PyPDF2\n",
    "import json"
   ]
  },
  {
   "cell_type": "code",
   "execution_count": 11,
   "id": "c92aa7ad",
   "metadata": {},
   "outputs": [],
   "source": [
    "RESPONSE_JSON = {\n",
    "    \"1\":{\n",
    "        \"mcq\": \"multiple choice question\",\n",
    "        \"options\": {\n",
    "            \"a\": \"choice here\",\n",
    "            \"b\": \"choice here\",\n",
    "            \"c\": \"choice here\",\n",
    "            \"d\": \"choice here\",\n",
    "        },\n",
    "        \"correct\": \"correct answer\"\n",
    "    },\n",
    "    \"2\":{\n",
    "        \"mcq\": \"multiple choice question\",\n",
    "        \"options\": {\n",
    "            \"a\": \"choice here\",\n",
    "            \"b\": \"choice here\",\n",
    "            \"c\": \"choice here\",\n",
    "            \"d\": \"choice here\",\n",
    "        },\n",
    "        \"correct\": \"correct answer\"\n",
    "    },\n",
    "    \"3\":{\n",
    "        \"mcq\": \"multiple choice question\",\n",
    "        \"options\": {\n",
    "            \"a\": \"choice here\",\n",
    "            \"b\": \"choice here\",\n",
    "            \"c\": \"choice here\",\n",
    "            \"d\": \"choice here\",\n",
    "        },\n",
    "        \"correct\": \"correct answer\"\n",
    "    },\n",
    "} "
   ]
  },
  {
   "cell_type": "code",
   "execution_count": 12,
   "id": "c7c0967a",
   "metadata": {},
   "outputs": [],
   "source": [
    "TEMPLATE = \"\"\"\n",
    "Text:{text}\n",
    "You are an expert MCQ maker. Given the above text, it is your job to create a quiz of {number} \n",
    "multiple choice questions for {subject} students in {tone} tone. Make sure the questions are \n",
    "not repeated and check all the questions to be conforming the text as well. Make sure to format \n",
    "your response like RESPONSE_JSON below and use it as a guide. Ensure to make {number} MCQs\n",
    "### RESPONSE_JSON {response_json}\n",
    "\"\"\""
   ]
  },
  {
   "cell_type": "code",
   "execution_count": 16,
   "id": "524fb78b",
   "metadata": {},
   "outputs": [],
   "source": [
    "TEMPLATE2 = \"\"\"\n",
    "You are an expert english grammarian and writer. Given a Multiple Choice Quiz for {subject} students.\n",
    "You need to evaluate the complexity of the question and give a complete analysis of the quiz. \n",
    "Only use at max 50 words for complexity. If the quiz is not as per with the congnitive and analytical \n",
    "abilities of the students, updata the quiz questions which needs to be changed the tone such that it \n",
    "perfectly fits the student abilities.\n",
    "Quiz_MCQs: {quiz} \n",
    "\"\"\""
   ]
  },
  {
   "cell_type": "code",
   "execution_count": 46,
   "id": "9ce8a954",
   "metadata": {},
   "outputs": [],
   "source": [
    "# tone means complexity of quiz like, easy, moderate, hard\n",
    "prompt = PromptTemplate(\n",
    "    template=TEMPLATE,\n",
    "    input_variables=[\"text\", \"number\", \"tone\", \"response_json\", \"subject\"]\n",
    ")"
   ]
  },
  {
   "cell_type": "code",
   "execution_count": 47,
   "id": "1d2c5768",
   "metadata": {},
   "outputs": [],
   "source": [
    "prompt2 = PromptTemplate(\n",
    "    template=TEMPLATE2,\n",
    "    input_variables=[\"quiz\"]\n",
    ")"
   ]
  },
  {
   "cell_type": "code",
   "execution_count": 15,
   "id": "7e746c95",
   "metadata": {},
   "outputs": [],
   "source": [
    "quiz_chain = LLMChain(llm=llm, prompt=prompt, output_key=\"quiz\", verbose=True)"
   ]
  },
  {
   "cell_type": "code",
   "execution_count": 18,
   "id": "348ae324",
   "metadata": {},
   "outputs": [],
   "source": [
    "review_chain = LLMChain(llm=llm, prompt=prompt2, output_key=\"review\", verbose=True)"
   ]
  },
  {
   "cell_type": "code",
   "execution_count": 20,
   "id": "02141c67",
   "metadata": {},
   "outputs": [],
   "source": [
    "genreate_evaluate_chain = SequentialChain(chains=[quiz_chain, review_chain], input_variables=[\"text\", \"number\", \"subject\", \"tone\", \"response_json\"], output_variables=[\"quiz\", \"review\"], verbose=True)"
   ]
  },
  {
   "cell_type": "code",
   "execution_count": 25,
   "id": "ba672803",
   "metadata": {},
   "outputs": [],
   "source": [
    "file_path = \"D:/python/DL/GenAi/Project/MCQGEN/data.txt\""
   ]
  },
  {
   "cell_type": "code",
   "execution_count": 26,
   "id": "8a592d0e",
   "metadata": {},
   "outputs": [],
   "source": [
    "with open(file=file_path, mode='r') as f:\n",
    "    TEXT = f.read()"
   ]
  },
  {
   "cell_type": "code",
   "execution_count": 27,
   "id": "e9835924",
   "metadata": {},
   "outputs": [
    {
     "name": "stdout",
     "output_type": "stream",
     "text": [
      "The Forgotten Kingdom of Aranthor\n",
      "Long ago, when the stars seemed closer to the earth and the rivers spoke in whispers to the wind, there stood a kingdom known as Aranthor. Hidden between towering mountains of silver rock and boundless forests that stretched beyond the horizon, it was a land of prosperity and legend. For centuries, its name echoed in the songs of travelers, its banners painted in golden lions upon crimson silk fluttered in the breeze, and its people thrived in harmony with the land. But like all great kingdoms, the shadow of time would one day swallow it, leaving behind only fragments of memory.\n",
      "\n",
      "The story begins with King Elandor, the last great ruler of Aranthor. He was not merely a sovereign who sat upon a throne of carved obsidian; he was a warrior of unyielding courage and a philosopher who sought wisdom in the scrolls of the ancients. His people adored him, for he walked among them often, dressed not in jewel-studded robes but in simple linen, listening to the concerns of farmers and artisans alike. Under his rule, Aranthor blossomed — its markets overflowed with spices, silk, and silver; its scholars recorded the movements of the heavens; and its stonemasons built temples that reached toward the sky.\n",
      "\n",
      "Yet, even in times of abundance, whispers of unrest stirred in the corners of the kingdom. Beyond the mountains lay the Kingdom of Drevarn, a rival realm envious of Aranthor’s wealth and unity. Drevarn’s king, Malgareth, was a man of ambition untempered by compassion, whose hunger for power was insatiable. He had long coveted Aranthor’s fertile plains and glittering mines. Though King Elandor had always sought peace, he knew that the storm of war might one day break upon his people.\n",
      "\n",
      "But the greatest threat to Aranthor did not come from outside its walls. Within the kingdom, in the shadow of prosperity, a secretive order known as the Ebon Serpents had taken root. These were men and women who dabbled in forbidden knowledge, practicing rituals that the old priests had banished centuries ago. They whispered that the gods themselves had abandoned humanity, and that only through darkness could true power be reclaimed. Their leader, a mysterious figure known only as Sevrik the Veiled, had sworn to see the fall of Aranthor, believing that the kingdom’s glory was an insult to the forgotten spirits of the underworld.\n",
      "\n",
      "One fateful night, during the Festival of the Twin Moons, when the entire kingdom gathered in celebration under the silver light of the heavens, tragedy struck. As the people danced in the great plaza and the musicians filled the air with joyous song, a sudden tremor shook the earth. The torches flickered, and a chilling wind swept through the city. From the shadows emerged cloaked figures chanting in a tongue older than stone itself. The Ebon Serpents had come, their sorcery tearing open cracks in the earth. Fiery shadows rose, and chaos engulfed the celebration.\n",
      "\n",
      "King Elandor, though caught unprepared, did not falter. With sword in hand, he rallied his guards and fought back the cultists. The people fled to the safety of the citadel while the city burned with unnatural flame. Though the king’s courage was unmatched, he realized that this was no ordinary uprising — the cult had allied with Drevarn, and Malgareth’s soldiers were already advancing through the mountain passes, guided by Sevrik’s dark magic.\n",
      "\n",
      "The war that followed was unlike any in the chronicles of Aranthor. For three years, the kingdom fought tooth and nail, its warriors defending every bridge, every gate, and every village. Songs were sung of the Battle of the Red Cliffs, where Aranthor’s archers rained fire upon Drevarn’s legions, and of Lady Seliane, a commander who led her cavalry through the enemy’s heart under the banner of the golden lion. Yet, with each passing season, the strain grew heavier. Crops withered under unnatural storms conjured by Sevrik’s rituals, and disease crept into the streets. The once-thriving kingdom began to weaken.\n",
      "\n",
      "In the fourth year of war, King Elandor made a desperate decision. Guided by the high priestess Elyndra, he sought the Crown of Solaris, an artifact said to be forged by the gods themselves. Hidden deep within the Vaults of Veylara, the crown was believed to grant its wearer the strength of a hundred kings and the wisdom of the ancients. With a band of loyal knights, Elandor journeyed through forgotten ruins, braved labyrinths guarded by stone guardians, and crossed rivers where spirits lingered in the mist. Many fell along the way, but at last, Elandor claimed the crown.\n",
      "\n",
      "When he returned, wearing the Crown of Solaris upon his brow, his presence shone with a brilliance that filled his people with hope. The final confrontation came at the Plains of Kaelthar, where the armies of Drevarn and the Ebon Serpents gathered to crush Aranthor once and for all. For three days and nights, the battle raged. The clash of steel rang like thunder, and the cries of the wounded echoed across the valley. On the dawn of the fourth day, King Elandor, radiant with the power of the crown, led a charge that broke the enemy’s lines. Malgareth was slain, and Sevrik vanished in a cloud of shadow, his fate unknown.\n",
      "\n",
      "Victory was won, but at a terrible cost. The fields were soaked in blood, the city lay in ruins, and the once-vibrant kingdom was but a shell of its former self. King Elandor, though triumphant, had paid dearly. The Crown of Solaris, while granting power, had drained his life force. Within weeks of the final battle, the great king grew frail, his hair turning silver as though years had passed in moments. On a quiet morning, as the sun rose over the battered city, Elandor passed away, leaving his people mourning the man who had given everything for them.\n",
      "\n",
      "Without its guiding light, Aranthor slowly crumbled. Neighboring realms, seeing weakness, claimed its lands piece by piece. The great temples were abandoned, the libraries looted, and the songs of its glory faded into whispers. The kingdom that once shone like a jewel of the world was swallowed by time, becoming a legend told around campfires and recorded in half-forgotten scrolls.\n",
      "\n",
      "Yet, the spirit of Aranthor was not truly lost. Even now, when the wind howls through the silver mountains and the moonlight touches the ruins, travelers say they hear faint echoes of drums and horns, as if the kingdom still remembers. Some believe that Sevrik the Veiled still lingers in shadow, waiting for his time to return. Others claim that the Crown of Solaris remains hidden, awaiting a ruler worthy of its power.\n",
      "\n",
      "And so, the tale of Aranthor endures — a story of glory, betrayal, sacrifice, and the unyielding will of a king who fought to the very end. Though its stones may crumble and its name may fade, the kingdom lives on in the hearts of those who believe that even in ruin, greatness leaves a mark that time cannot erase.\n"
     ]
    }
   ],
   "source": [
    "print(TEXT)"
   ]
  },
  {
   "cell_type": "code",
   "execution_count": 29,
   "id": "f474a294",
   "metadata": {},
   "outputs": [],
   "source": [
    "NUMBER=5\n",
    "SUBJECT=\"Kingdom\"\n",
    "TONE=\"simple\""
   ]
  },
  {
   "cell_type": "code",
   "execution_count": null,
   "id": "016b960c",
   "metadata": {},
   "outputs": [],
   "source": [
    "# Below function is use to track no.of tokens and cost according to input and output but, this function is use only for openai models(llms)\n",
    "\n",
    "# with get_openai_callback() as cb:\n",
    "#     response = genreate_evaluate_chain(\n",
    "#         {\n",
    "#             \"text\": TEXT,\n",
    "#             \"number\": NUMBER,\n",
    "#             \"subject\": SUBJECT,\n",
    "#             \"tone\":TONE,\n",
    "#             \"response_json\": json.dump(RESPONSE_JSON)\n",
    "#         }\n",
    "#     )\n",
    "\n",
    "# print(f\"Total Tokens: {cb.total_tokens}\") # total number of tokens\n",
    "# print(f\"Prompt tokens: {cb.prompt_tokens}\") # input tokens\n",
    "# print(f\"Completion Tokens: {cb.completion_tokens}\") # output tokens\n",
    "# print(f\"Total Cost: {cb.total_cost}\") # total cost"
   ]
  },
  {
   "cell_type": "code",
   "execution_count": 32,
   "id": "77d97e27",
   "metadata": {},
   "outputs": [
    {
     "name": "stdout",
     "output_type": "stream",
     "text": [
      "\n",
      "\n",
      "\u001b[1m> Entering new SequentialChain chain...\u001b[0m\n",
      "\n",
      "\n",
      "\u001b[1m> Entering new LLMChain chain...\u001b[0m\n",
      "Prompt after formatting:\n",
      "\u001b[32;1m\u001b[1;3m\n",
      "Text:The Forgotten Kingdom of Aranthor\n",
      "Long ago, when the stars seemed closer to the earth and the rivers spoke in whispers to the wind, there stood a kingdom known as Aranthor. Hidden between towering mountains of silver rock and boundless forests that stretched beyond the horizon, it was a land of prosperity and legend. For centuries, its name echoed in the songs of travelers, its banners painted in golden lions upon crimson silk fluttered in the breeze, and its people thrived in harmony with the land. But like all great kingdoms, the shadow of time would one day swallow it, leaving behind only fragments of memory.\n",
      "\n",
      "The story begins with King Elandor, the last great ruler of Aranthor. He was not merely a sovereign who sat upon a throne of carved obsidian; he was a warrior of unyielding courage and a philosopher who sought wisdom in the scrolls of the ancients. His people adored him, for he walked among them often, dressed not in jewel-studded robes but in simple linen, listening to the concerns of farmers and artisans alike. Under his rule, Aranthor blossomed — its markets overflowed with spices, silk, and silver; its scholars recorded the movements of the heavens; and its stonemasons built temples that reached toward the sky.\n",
      "\n",
      "Yet, even in times of abundance, whispers of unrest stirred in the corners of the kingdom. Beyond the mountains lay the Kingdom of Drevarn, a rival realm envious of Aranthor’s wealth and unity. Drevarn’s king, Malgareth, was a man of ambition untempered by compassion, whose hunger for power was insatiable. He had long coveted Aranthor’s fertile plains and glittering mines. Though King Elandor had always sought peace, he knew that the storm of war might one day break upon his people.\n",
      "\n",
      "But the greatest threat to Aranthor did not come from outside its walls. Within the kingdom, in the shadow of prosperity, a secretive order known as the Ebon Serpents had taken root. These were men and women who dabbled in forbidden knowledge, practicing rituals that the old priests had banished centuries ago. They whispered that the gods themselves had abandoned humanity, and that only through darkness could true power be reclaimed. Their leader, a mysterious figure known only as Sevrik the Veiled, had sworn to see the fall of Aranthor, believing that the kingdom’s glory was an insult to the forgotten spirits of the underworld.\n",
      "\n",
      "One fateful night, during the Festival of the Twin Moons, when the entire kingdom gathered in celebration under the silver light of the heavens, tragedy struck. As the people danced in the great plaza and the musicians filled the air with joyous song, a sudden tremor shook the earth. The torches flickered, and a chilling wind swept through the city. From the shadows emerged cloaked figures chanting in a tongue older than stone itself. The Ebon Serpents had come, their sorcery tearing open cracks in the earth. Fiery shadows rose, and chaos engulfed the celebration.\n",
      "\n",
      "King Elandor, though caught unprepared, did not falter. With sword in hand, he rallied his guards and fought back the cultists. The people fled to the safety of the citadel while the city burned with unnatural flame. Though the king’s courage was unmatched, he realized that this was no ordinary uprising — the cult had allied with Drevarn, and Malgareth’s soldiers were already advancing through the mountain passes, guided by Sevrik’s dark magic.\n",
      "\n",
      "The war that followed was unlike any in the chronicles of Aranthor. For three years, the kingdom fought tooth and nail, its warriors defending every bridge, every gate, and every village. Songs were sung of the Battle of the Red Cliffs, where Aranthor’s archers rained fire upon Drevarn’s legions, and of Lady Seliane, a commander who led her cavalry through the enemy’s heart under the banner of the golden lion. Yet, with each passing season, the strain grew heavier. Crops withered under unnatural storms conjured by Sevrik’s rituals, and disease crept into the streets. The once-thriving kingdom began to weaken.\n",
      "\n",
      "In the fourth year of war, King Elandor made a desperate decision. Guided by the high priestess Elyndra, he sought the Crown of Solaris, an artifact said to be forged by the gods themselves. Hidden deep within the Vaults of Veylara, the crown was believed to grant its wearer the strength of a hundred kings and the wisdom of the ancients. With a band of loyal knights, Elandor journeyed through forgotten ruins, braved labyrinths guarded by stone guardians, and crossed rivers where spirits lingered in the mist. Many fell along the way, but at last, Elandor claimed the crown.\n",
      "\n",
      "When he returned, wearing the Crown of Solaris upon his brow, his presence shone with a brilliance that filled his people with hope. The final confrontation came at the Plains of Kaelthar, where the armies of Drevarn and the Ebon Serpents gathered to crush Aranthor once and for all. For three days and nights, the battle raged. The clash of steel rang like thunder, and the cries of the wounded echoed across the valley. On the dawn of the fourth day, King Elandor, radiant with the power of the crown, led a charge that broke the enemy’s lines. Malgareth was slain, and Sevrik vanished in a cloud of shadow, his fate unknown.\n",
      "\n",
      "Victory was won, but at a terrible cost. The fields were soaked in blood, the city lay in ruins, and the once-vibrant kingdom was but a shell of its former self. King Elandor, though triumphant, had paid dearly. The Crown of Solaris, while granting power, had drained his life force. Within weeks of the final battle, the great king grew frail, his hair turning silver as though years had passed in moments. On a quiet morning, as the sun rose over the battered city, Elandor passed away, leaving his people mourning the man who had given everything for them.\n",
      "\n",
      "Without its guiding light, Aranthor slowly crumbled. Neighboring realms, seeing weakness, claimed its lands piece by piece. The great temples were abandoned, the libraries looted, and the songs of its glory faded into whispers. The kingdom that once shone like a jewel of the world was swallowed by time, becoming a legend told around campfires and recorded in half-forgotten scrolls.\n",
      "\n",
      "Yet, the spirit of Aranthor was not truly lost. Even now, when the wind howls through the silver mountains and the moonlight touches the ruins, travelers say they hear faint echoes of drums and horns, as if the kingdom still remembers. Some believe that Sevrik the Veiled still lingers in shadow, waiting for his time to return. Others claim that the Crown of Solaris remains hidden, awaiting a ruler worthy of its power.\n",
      "\n",
      "And so, the tale of Aranthor endures — a story of glory, betrayal, sacrifice, and the unyielding will of a king who fought to the very end. Though its stones may crumble and its name may fade, the kingdom lives on in the hearts of those who believe that even in ruin, greatness leaves a mark that time cannot erase.\n",
      "You are an expert MCQ maker. Given the above text, it is your job to create a quiz of 5 \n",
      "multiple choice questions for Kingdom students in simple tone. Make sure the questions are \n",
      "not repeated and check all the questions to be conforming the text as well. Make sure to format \n",
      "your response like RESPONSE_JSON below and use it as a guide. Ensure to make 5 MCQs\n",
      "### RESPONSE_JSON {\"1\": {\"mcq\": \"multiple choice question\", \"options\": {\"a\": \"choice here\", \"b\": \"choice here\", \"c\": \"choice here\", \"d\": \"choice here\"}, \"correct\": \"correct answer\"}, \"2\": {\"mcq\": \"multiple choice question\", \"options\": {\"a\": \"choice here\", \"b\": \"choice here\", \"c\": \"choice here\", \"d\": \"choice here\"}, \"correct\": \"correct answer\"}, \"3\": {\"mcq\": \"multiple choice question\", \"options\": {\"a\": \"choice here\", \"b\": \"choice here\", \"c\": \"choice here\", \"d\": \"choice here\"}, \"correct\": \"correct answer\"}}\n",
      "\u001b[0m\n",
      "\n",
      "\u001b[1m> Finished chain.\u001b[0m\n",
      "\n",
      "\n",
      "\u001b[1m> Entering new LLMChain chain...\u001b[0m\n",
      "Prompt after formatting:\n",
      "\u001b[32;1m\u001b[1;3m\n",
      "You are an expert english grammarian and writer. Given a Multiple Choice Quiz for Kingdom students.\n",
      "You need to evaluate the complexity of the question and give a complete analysis of the quiz. \n",
      "Only use at max 50 words for complexity. If the quiz is not as per with the congnitive and analytical \n",
      "abilities of the students, updata the quiz questions which needs to be changed the tone such that it \n",
      "perfectly fits the student abilities.\n",
      "Quiz_MCQs: ```json\n",
      "{\n",
      "  \"1\": {\n",
      "    \"mcq\": \"Who was the last great ruler of Aranthor?\",\n",
      "    \"options\": {\n",
      "      \"a\": \"Malgareth\",\n",
      "      \"b\": \"Sevrik\",\n",
      "      \"c\": \"Elandor\",\n",
      "      \"d\": \"Elyndra\"\n",
      "    },\n",
      "    \"correct\": \"c\"\n",
      "  },\n",
      "  \"2\": {\n",
      "    \"mcq\": \"What did King Elandor wear when he walked among his people?\",\n",
      "    \"options\": {\n",
      "      \"a\": \"Jewel‑studded robes\",\n",
      "      \"b\": \"Simple linen\",\n",
      "      \"c\": \"Golden lion cloak\",\n",
      "      \"d\": \"Obsidian armor\"\n",
      "    },\n",
      "    \"correct\": \"b\"\n",
      "  },\n",
      "  \"3\": {\n",
      "    \"mcq\": \"Which kingdom allied with the Ebon Serpents against Aranthor?\",\n",
      "    \"options\": {\n",
      "      \"a\": \"Drevarn\",\n",
      "      \"b\": \"Veylara\",\n",
      "      \"c\": \"Aranthor\",\n",
      "      \"d\": \"Seliane\"\n",
      "    },\n",
      "    \"correct\": \"a\"\n",
      "  },\n",
      "  \"4\": {\n",
      "    \"mcq\": \"What artifact did King Elandor seek to defeat the enemies?\",\n",
      "    \"options\": {\n",
      "      \"a\": \"Crown of Solaris\",\n",
      "      \"b\": \"Sword of Dawn\",\n",
      "      \"c\": \"Shield of Veylara\",\n",
      "      \"d\": \"Tome of Elders\"\n",
      "    },\n",
      "    \"correct\": \"a\"\n",
      "  },\n",
      "  \"5\": {\n",
      "    \"mcq\": \"What happened to King Elandor after wearing the Crown of Solaris?\",\n",
      "    \"options\": {\n",
      "      \"a\": \"He became immortal\",\n",
      "      \"b\": \"He lost his sight\",\n",
      "      \"c\": \"He drained his life force and died\",\n",
      "      \"d\": \"He turned into a dragon\"\n",
      "    },\n",
      "    \"correct\": \"c\"\n",
      "  }\n",
      "}\n",
      "``` \n",
      "\u001b[0m\n",
      "\n",
      "\u001b[1m> Finished chain.\u001b[0m\n",
      "\n",
      "\u001b[1m> Finished chain.\u001b[0m\n"
     ]
    },
    {
     "data": {
      "text/plain": [
       "{'text': 'The Forgotten Kingdom of Aranthor\\nLong ago, when the stars seemed closer to the earth and the rivers spoke in whispers to the wind, there stood a kingdom known as Aranthor. Hidden between towering mountains of silver rock and boundless forests that stretched beyond the horizon, it was a land of prosperity and legend. For centuries, its name echoed in the songs of travelers, its banners painted in golden lions upon crimson silk fluttered in the breeze, and its people thrived in harmony with the land. But like all great kingdoms, the shadow of time would one day swallow it, leaving behind only fragments of memory.\\n\\nThe story begins with King Elandor, the last great ruler of Aranthor. He was not merely a sovereign who sat upon a throne of carved obsidian; he was a warrior of unyielding courage and a philosopher who sought wisdom in the scrolls of the ancients. His people adored him, for he walked among them often, dressed not in jewel-studded robes but in simple linen, listening to the concerns of farmers and artisans alike. Under his rule, Aranthor blossomed — its markets overflowed with spices, silk, and silver; its scholars recorded the movements of the heavens; and its stonemasons built temples that reached toward the sky.\\n\\nYet, even in times of abundance, whispers of unrest stirred in the corners of the kingdom. Beyond the mountains lay the Kingdom of Drevarn, a rival realm envious of Aranthor’s wealth and unity. Drevarn’s king, Malgareth, was a man of ambition untempered by compassion, whose hunger for power was insatiable. He had long coveted Aranthor’s fertile plains and glittering mines. Though King Elandor had always sought peace, he knew that the storm of war might one day break upon his people.\\n\\nBut the greatest threat to Aranthor did not come from outside its walls. Within the kingdom, in the shadow of prosperity, a secretive order known as the Ebon Serpents had taken root. These were men and women who dabbled in forbidden knowledge, practicing rituals that the old priests had banished centuries ago. They whispered that the gods themselves had abandoned humanity, and that only through darkness could true power be reclaimed. Their leader, a mysterious figure known only as Sevrik the Veiled, had sworn to see the fall of Aranthor, believing that the kingdom’s glory was an insult to the forgotten spirits of the underworld.\\n\\nOne fateful night, during the Festival of the Twin Moons, when the entire kingdom gathered in celebration under the silver light of the heavens, tragedy struck. As the people danced in the great plaza and the musicians filled the air with joyous song, a sudden tremor shook the earth. The torches flickered, and a chilling wind swept through the city. From the shadows emerged cloaked figures chanting in a tongue older than stone itself. The Ebon Serpents had come, their sorcery tearing open cracks in the earth. Fiery shadows rose, and chaos engulfed the celebration.\\n\\nKing Elandor, though caught unprepared, did not falter. With sword in hand, he rallied his guards and fought back the cultists. The people fled to the safety of the citadel while the city burned with unnatural flame. Though the king’s courage was unmatched, he realized that this was no ordinary uprising — the cult had allied with Drevarn, and Malgareth’s soldiers were already advancing through the mountain passes, guided by Sevrik’s dark magic.\\n\\nThe war that followed was unlike any in the chronicles of Aranthor. For three years, the kingdom fought tooth and nail, its warriors defending every bridge, every gate, and every village. Songs were sung of the Battle of the Red Cliffs, where Aranthor’s archers rained fire upon Drevarn’s legions, and of Lady Seliane, a commander who led her cavalry through the enemy’s heart under the banner of the golden lion. Yet, with each passing season, the strain grew heavier. Crops withered under unnatural storms conjured by Sevrik’s rituals, and disease crept into the streets. The once-thriving kingdom began to weaken.\\n\\nIn the fourth year of war, King Elandor made a desperate decision. Guided by the high priestess Elyndra, he sought the Crown of Solaris, an artifact said to be forged by the gods themselves. Hidden deep within the Vaults of Veylara, the crown was believed to grant its wearer the strength of a hundred kings and the wisdom of the ancients. With a band of loyal knights, Elandor journeyed through forgotten ruins, braved labyrinths guarded by stone guardians, and crossed rivers where spirits lingered in the mist. Many fell along the way, but at last, Elandor claimed the crown.\\n\\nWhen he returned, wearing the Crown of Solaris upon his brow, his presence shone with a brilliance that filled his people with hope. The final confrontation came at the Plains of Kaelthar, where the armies of Drevarn and the Ebon Serpents gathered to crush Aranthor once and for all. For three days and nights, the battle raged. The clash of steel rang like thunder, and the cries of the wounded echoed across the valley. On the dawn of the fourth day, King Elandor, radiant with the power of the crown, led a charge that broke the enemy’s lines. Malgareth was slain, and Sevrik vanished in a cloud of shadow, his fate unknown.\\n\\nVictory was won, but at a terrible cost. The fields were soaked in blood, the city lay in ruins, and the once-vibrant kingdom was but a shell of its former self. King Elandor, though triumphant, had paid dearly. The Crown of Solaris, while granting power, had drained his life force. Within weeks of the final battle, the great king grew frail, his hair turning silver as though years had passed in moments. On a quiet morning, as the sun rose over the battered city, Elandor passed away, leaving his people mourning the man who had given everything for them.\\n\\nWithout its guiding light, Aranthor slowly crumbled. Neighboring realms, seeing weakness, claimed its lands piece by piece. The great temples were abandoned, the libraries looted, and the songs of its glory faded into whispers. The kingdom that once shone like a jewel of the world was swallowed by time, becoming a legend told around campfires and recorded in half-forgotten scrolls.\\n\\nYet, the spirit of Aranthor was not truly lost. Even now, when the wind howls through the silver mountains and the moonlight touches the ruins, travelers say they hear faint echoes of drums and horns, as if the kingdom still remembers. Some believe that Sevrik the Veiled still lingers in shadow, waiting for his time to return. Others claim that the Crown of Solaris remains hidden, awaiting a ruler worthy of its power.\\n\\nAnd so, the tale of Aranthor endures — a story of glory, betrayal, sacrifice, and the unyielding will of a king who fought to the very end. Though its stones may crumble and its name may fade, the kingdom lives on in the hearts of those who believe that even in ruin, greatness leaves a mark that time cannot erase.',\n",
       " 'number': 5,\n",
       " 'subject': 'Kingdom',\n",
       " 'tone': 'simple',\n",
       " 'response_json': '{\"1\": {\"mcq\": \"multiple choice question\", \"options\": {\"a\": \"choice here\", \"b\": \"choice here\", \"c\": \"choice here\", \"d\": \"choice here\"}, \"correct\": \"correct answer\"}, \"2\": {\"mcq\": \"multiple choice question\", \"options\": {\"a\": \"choice here\", \"b\": \"choice here\", \"c\": \"choice here\", \"d\": \"choice here\"}, \"correct\": \"correct answer\"}, \"3\": {\"mcq\": \"multiple choice question\", \"options\": {\"a\": \"choice here\", \"b\": \"choice here\", \"c\": \"choice here\", \"d\": \"choice here\"}, \"correct\": \"correct answer\"}}',\n",
       " 'quiz': '```json\\n{\\n  \"1\": {\\n    \"mcq\": \"Who was the last great ruler of Aranthor?\",\\n    \"options\": {\\n      \"a\": \"Malgareth\",\\n      \"b\": \"Sevrik\",\\n      \"c\": \"Elandor\",\\n      \"d\": \"Elyndra\"\\n    },\\n    \"correct\": \"c\"\\n  },\\n  \"2\": {\\n    \"mcq\": \"What did King Elandor wear when he walked among his people?\",\\n    \"options\": {\\n      \"a\": \"Jewel‑studded robes\",\\n      \"b\": \"Simple linen\",\\n      \"c\": \"Golden lion cloak\",\\n      \"d\": \"Obsidian armor\"\\n    },\\n    \"correct\": \"b\"\\n  },\\n  \"3\": {\\n    \"mcq\": \"Which kingdom allied with the Ebon Serpents against Aranthor?\",\\n    \"options\": {\\n      \"a\": \"Drevarn\",\\n      \"b\": \"Veylara\",\\n      \"c\": \"Aranthor\",\\n      \"d\": \"Seliane\"\\n    },\\n    \"correct\": \"a\"\\n  },\\n  \"4\": {\\n    \"mcq\": \"What artifact did King Elandor seek to defeat the enemies?\",\\n    \"options\": {\\n      \"a\": \"Crown of Solaris\",\\n      \"b\": \"Sword of Dawn\",\\n      \"c\": \"Shield of Veylara\",\\n      \"d\": \"Tome of Elders\"\\n    },\\n    \"correct\": \"a\"\\n  },\\n  \"5\": {\\n    \"mcq\": \"What happened to King Elandor after wearing the Crown of Solaris?\",\\n    \"options\": {\\n      \"a\": \"He became immortal\",\\n      \"b\": \"He lost his sight\",\\n      \"c\": \"He drained his life force and died\",\\n      \"d\": \"He turned into a dragon\"\\n    },\\n    \"correct\": \"c\"\\n  }\\n}\\n```',\n",
       " 'review': '**Complexity (≤50\\u202fwords):**  \\nModerate – students must recall specific facts and make simple inferences about a fictional kingdom. Requires some contextual understanding but not advanced reasoning or vocabulary.\\n\\n**Analysis:**  \\nThe MCQs test factual recall and basic inference within a fantasy setting. While engaging, the language (“last great ruler,” “Crown of Solaris”) may be too abstract for younger learners, potentially confusing them. Simplifying phrasing, reducing exotic terms, and providing clearer context will align the quiz with typical middle‑school cognitive levels.  \\n\\n**Updated Quiz (simpler tone):**  \\n```json\\n{\\n  \"1\": {\\n    \"mcq\": \"Who was the last king of Aranthor?\",\\n    \"options\": {\\n      \"a\": \"Malgareth\",\\n      \"b\": \"Sevrik\",\\n      \"c\": \"Elandor\",\\n      \"d\": \"Elyndra\"\\n    },\\n    \"correct\": \"c\"\\n  },\\n  \"2\": {\\n    \"mcq\": \"What did King Elandor wear when he visited the people?\",\\n    \"options\": {\\n      \"a\": \"Shiny robes\",\\n      \"b\": \"Plain linen\",\\n      \"c\": \"Golden cloak\",\\n      \"d\": \"Heavy armor\"\\n    },\\n    \"correct\": \"b\"\\n  },\\n  \"3\": {\\n    \"mcq\": \"Which kingdom joined the Ebon Serpents against Aranthor?\",\\n    \"options\": {\\n      \"a\": \"Drevarn\",\\n      \"b\": \"Veylara\",\\n      \"c\": \"Aranthor\",\\n      \"d\": \"Seliane\"\\n    },\\n    \"correct\": \"a\"\\n  },\\n  \"4\": {\\n    \"mcq\": \"What item did King Elandor look for to beat the enemies?\",\\n    \"options\": {\\n      \"a\": \"Crown of Solaris\",\\n      \"b\": \"Sword of Dawn\",\\n      \"c\": \"Shield of Veylara\",\\n      \"d\": \"Tome of Elders\"\\n    },\\n    \"correct\": \"a\"\\n  },\\n  \"5\": {\\n    \"mcq\": \"What happened to King Elandor after he used the Crown of Solaris?\",\\n    \"options\": {\\n      \"a\": \"He became very powerful\",\\n      \"b\": \"He lost his sight\",\\n      \"c\": \"He lost his life and died\",\\n      \"d\": \"He turned into a dragon\"\\n    },\\n    \"correct\": \"c\"\\n  }\\n}\\n```\\nThis version keeps the core content but uses clearer, more age‑appropriate language.'}"
      ]
     },
     "execution_count": 32,
     "metadata": {},
     "output_type": "execute_result"
    }
   ],
   "source": [
    "response1 = genreate_evaluate_chain.invoke({\n",
    "    \"text\": TEXT,\n",
    "    \"number\": NUMBER,\n",
    "    \"subject\": SUBJECT,\n",
    "    \"tone\":TONE,\n",
    "    \"response_json\": json.dumps(RESPONSE_JSON)\n",
    "})\n",
    "response1"
   ]
  },
  {
   "cell_type": "code",
   "execution_count": 39,
   "id": "2f64ccec",
   "metadata": {},
   "outputs": [
    {
     "name": "stdout",
     "output_type": "stream",
     "text": [
      "```json\n",
      "{\n",
      "  \"1\": {\n",
      "    \"mcq\": \"Who was the last great ruler of Aranthor?\",\n",
      "    \"options\": {\n",
      "      \"a\": \"Malgareth\",\n",
      "      \"b\": \"Sevrik\",\n",
      "      \"c\": \"Elandor\",\n",
      "      \"d\": \"Elyndra\"\n",
      "    },\n",
      "    \"correct\": \"c\"\n",
      "  },\n",
      "  \"2\": {\n",
      "    \"mcq\": \"What did King Elandor wear when he walked among his people?\",\n",
      "    \"options\": {\n",
      "      \"a\": \"Jewel‑studded robes\",\n",
      "      \"b\": \"Simple linen\",\n",
      "      \"c\": \"Golden lion cloak\",\n",
      "      \"d\": \"Obsidian armor\"\n",
      "    },\n",
      "    \"correct\": \"b\"\n",
      "  },\n",
      "  \"3\": {\n",
      "    \"mcq\": \"Which kingdom allied with the Ebon Serpents against Aranthor?\",\n",
      "    \"options\": {\n",
      "      \"a\": \"Drevarn\",\n",
      "      \"b\": \"Veylara\",\n",
      "      \"c\": \"Aranthor\",\n",
      "      \"d\": \"Seliane\"\n",
      "    },\n",
      "    \"correct\": \"a\"\n",
      "  },\n",
      "  \"4\": {\n",
      "    \"mcq\": \"What artifact did King Elandor seek to defeat the enemies?\",\n",
      "    \"options\": {\n",
      "      \"a\": \"Crown of Solaris\",\n",
      "      \"b\": \"Sword of Dawn\",\n",
      "      \"c\": \"Shield of Veylara\",\n",
      "      \"d\": \"Tome of Elders\"\n",
      "    },\n",
      "    \"correct\": \"a\"\n",
      "  },\n",
      "  \"5\": {\n",
      "    \"mcq\": \"What happened to King Elandor after wearing the Crown of Solaris?\",\n",
      "    \"options\": {\n",
      "      \"a\": \"He became immortal\",\n",
      "      \"b\": \"He lost his sight\",\n",
      "      \"c\": \"He drained his life force and died\",\n",
      "      \"d\": \"He turned into a dragon\"\n",
      "    },\n",
      "    \"correct\": \"c\"\n",
      "  }\n",
      "}\n",
      "```\n"
     ]
    }
   ],
   "source": [
    "print(response1.get(\"quiz\"))"
   ]
  },
  {
   "cell_type": "code",
   "execution_count": 41,
   "id": "57c20c64",
   "metadata": {},
   "outputs": [
    {
     "data": {
      "text/plain": [
       "{'1': {'mcq': 'Who was the last great ruler of Aranthor?',\n",
       "  'options': {'a': 'Malgareth', 'b': 'Sevrik', 'c': 'Elandor', 'd': 'Elyndra'},\n",
       "  'correct': 'c'},\n",
       " '2': {'mcq': 'What did King Elandor wear when he walked among his people?',\n",
       "  'options': {'a': 'Jewel‑studded robes',\n",
       "   'b': 'Simple linen',\n",
       "   'c': 'Golden lion cloak',\n",
       "   'd': 'Obsidian armor'},\n",
       "  'correct': 'b'},\n",
       " '3': {'mcq': 'Which kingdom allied with the Ebon Serpents against Aranthor?',\n",
       "  'options': {'a': 'Drevarn', 'b': 'Veylara', 'c': 'Aranthor', 'd': 'Seliane'},\n",
       "  'correct': 'a'},\n",
       " '4': {'mcq': 'What artifact did King Elandor seek to defeat the enemies?',\n",
       "  'options': {'a': 'Crown of Solaris',\n",
       "   'b': 'Sword of Dawn',\n",
       "   'c': 'Shield of Veylara',\n",
       "   'd': 'Tome of Elders'},\n",
       "  'correct': 'a'},\n",
       " '5': {'mcq': 'What happened to King Elandor after wearing the Crown of Solaris?',\n",
       "  'options': {'a': 'He became immortal',\n",
       "   'b': 'He lost his sight',\n",
       "   'c': 'He drained his life force and died',\n",
       "   'd': 'He turned into a dragon'},\n",
       "  'correct': 'c'}}"
      ]
     },
     "execution_count": 41,
     "metadata": {},
     "output_type": "execute_result"
    }
   ],
   "source": [
    "quiz = response1.get(\"quiz\")\n",
    "clean_quiz = quiz.replace(\"```json\", \"\").replace(\"```\", \"\").strip()\n",
    "\n",
    "quiz_json = json.loads(clean_quiz)\n",
    "quiz_json"
   ]
  },
  {
   "cell_type": "markdown",
   "id": "bb80e5ba",
   "metadata": {},
   "source": [
    "## Or\n"
   ]
  },
  {
   "cell_type": "code",
   "execution_count": 2,
   "id": "3c40cf5f",
   "metadata": {},
   "outputs": [
    {
     "data": {
      "text/plain": [
       "True"
      ]
     },
     "execution_count": 2,
     "metadata": {},
     "output_type": "execute_result"
    }
   ],
   "source": [
    "from langchain_groq import ChatGroq\n",
    "from dotenv import load_dotenv\n",
    "\n",
    "load_dotenv()"
   ]
  },
  {
   "cell_type": "code",
   "execution_count": 3,
   "id": "2dee7f97",
   "metadata": {},
   "outputs": [],
   "source": [
    "llm = ChatGroq(model=\"openai/gpt-oss-20b\")"
   ]
  },
  {
   "cell_type": "code",
   "execution_count": 4,
   "id": "286bff74",
   "metadata": {},
   "outputs": [],
   "source": [
    "from langchain_core.prompts import PromptTemplate\n",
    "from langchain.schema.runnable import RunnableLambda\n",
    "from langchain_core.output_parsers import JsonOutputParser \n",
    "import PyPDF2\n",
    "import json"
   ]
  },
  {
   "cell_type": "code",
   "execution_count": 5,
   "id": "359711de",
   "metadata": {},
   "outputs": [],
   "source": [
    "RESPONSE_JSON = {\n",
    "    \"1\":{\n",
    "        \"mcq\": \"multiple choice question\",\n",
    "        \"options\": {\n",
    "            \"a\": \"choice here\",\n",
    "            \"b\": \"choice here\",\n",
    "            \"c\": \"choice here\",\n",
    "            \"d\": \"choice here\",\n",
    "        },\n",
    "        \"correct\": \"correct answer\"\n",
    "    },\n",
    "    \"2\":{\n",
    "        \"mcq\": \"multiple choice question\",\n",
    "        \"options\": {\n",
    "            \"a\": \"choice here\",\n",
    "            \"b\": \"choice here\",\n",
    "            \"c\": \"choice here\",\n",
    "            \"d\": \"choice here\",\n",
    "        },\n",
    "        \"correct\": \"correct answer\"\n",
    "    },\n",
    "    \"3\":{\n",
    "        \"mcq\": \"multiple choice question\",\n",
    "        \"options\": {\n",
    "            \"a\": \"choice here\",\n",
    "            \"b\": \"choice here\",\n",
    "            \"c\": \"choice here\",\n",
    "            \"d\": \"choice here\",\n",
    "        },\n",
    "        \"correct\": \"correct answer\"\n",
    "    },\n",
    "} "
   ]
  },
  {
   "cell_type": "code",
   "execution_count": 6,
   "id": "c5d259e0",
   "metadata": {},
   "outputs": [],
   "source": [
    "TEMPLATE = \"\"\"\n",
    "Text:{text}\n",
    "You are an expert MCQ maker. Given the above text, it is your job to create a quiz of {number} \n",
    "multiple choice questions for {subject} students in {tone} tone. Make sure the questions are \n",
    "not repeated and check all the questions to be conforming the text as well. Make sure to format \n",
    "your response like RESPONSE_JSON below and use it as a guide. Ensure to make {number} MCQs\n",
    "### RESPONSE_JSON {response_json}\n",
    "\"\"\""
   ]
  },
  {
   "cell_type": "code",
   "execution_count": 7,
   "id": "2c971e97",
   "metadata": {},
   "outputs": [],
   "source": [
    "TEMPLATE2 = \"\"\"\n",
    "You are an expert english grammarian and writer. Given a Multiple Choice Quiz for {subject} students.\n",
    "You need to evaluate the complexity of the question and give a complete analysis of the quiz. \n",
    "Only use at max 50 words for complexity. If the quiz is not as per with the congnitive and analytical \n",
    "abilities of the students, updata the quiz questions which needs to be changed the tone such that it \n",
    "perfectly fits the student abilities.\n",
    "Quiz_MCQs: {quiz} \n",
    "\"\"\""
   ]
  },
  {
   "cell_type": "code",
   "execution_count": 8,
   "id": "118dc49a",
   "metadata": {},
   "outputs": [],
   "source": [
    "# tone means complexity of quiz like, easy, moderate, hard\n",
    "prompt1 = PromptTemplate(\n",
    "    template=TEMPLATE,\n",
    "    input_variables=[\"text\", \"number\", \"tone\", \"response_json\", \"subject\"]\n",
    ")"
   ]
  },
  {
   "cell_type": "code",
   "execution_count": 9,
   "id": "3cfc983d",
   "metadata": {},
   "outputs": [],
   "source": [
    "prompt2 = PromptTemplate(\n",
    "    template=TEMPLATE2,\n",
    "    input_variables=[\"quiz\", \"subject\"]\n",
    ")"
   ]
  },
  {
   "cell_type": "code",
   "execution_count": 10,
   "id": "fedbdaf4",
   "metadata": {},
   "outputs": [],
   "source": [
    "def extract_content(ai_message, subject=None):\n",
    "    return {\"quiz\": ai_message.content, \"subject\": subject}\n",
    "\n",
    "prompt3 = RunnableLambda(extract_content)"
   ]
  },
  {
   "cell_type": "code",
   "execution_count": 11,
   "id": "3c7b0fc1",
   "metadata": {},
   "outputs": [],
   "source": [
    "parser = JsonOutputParser()"
   ]
  },
  {
   "cell_type": "code",
   "execution_count": 12,
   "id": "1305efcc",
   "metadata": {},
   "outputs": [],
   "source": [
    "# or\n",
    "quiz_chain = prompt1 | llm\n",
    "review_chain = prompt2 | llm\n",
    "final_chain = quiz_chain | prompt3 | review_chain | parser"
   ]
  },
  {
   "cell_type": "code",
   "execution_count": 13,
   "id": "24982c0d",
   "metadata": {},
   "outputs": [],
   "source": [
    "file_path = \"D:/python/DL/GenAi/Project/MCQGEN/data.txt\""
   ]
  },
  {
   "cell_type": "code",
   "execution_count": 14,
   "id": "7c594059",
   "metadata": {},
   "outputs": [],
   "source": [
    "with open(file=file_path, mode='r') as f:\n",
    "    TEXT = f.read()"
   ]
  },
  {
   "cell_type": "code",
   "execution_count": 15,
   "id": "10480f08",
   "metadata": {},
   "outputs": [],
   "source": [
    "NUMBER=5\n",
    "SUBJECT=\"Kingdom\"\n",
    "TONE=\"simple\""
   ]
  },
  {
   "cell_type": "code",
   "execution_count": 20,
   "id": "ab642d5c",
   "metadata": {},
   "outputs": [
    {
     "data": {
      "text/plain": [
       "{'1': {'mcq': 'Who was the last king of Aranthor?',\n",
       "  'options': {'a': 'Malgareth', 'b': 'Elandor', 'c': 'Sevrik', 'd': 'Elyndra'},\n",
       "  'correct': 'b'},\n",
       " '2': {'mcq': 'What was the name of the secret group that tried to overthrow Aranthor?',\n",
       "  'options': {'a': 'Ebon Serpents',\n",
       "   'b': 'Silver Lions',\n",
       "   'c': 'Golden Lions',\n",
       "   'd': 'Night Watch'},\n",
       "  'correct': 'a'},\n",
       " '3': {'mcq': 'Which item did King Elandor want to win the war?',\n",
       "  'options': {'a': 'Crown of Solaris',\n",
       "   'b': 'Sword of Dawn',\n",
       "   'c': 'Shield of Veylara',\n",
       "   'd': 'Orb of Light'},\n",
       "  'correct': 'a'},\n",
       " '4': {'mcq': 'Who commanded the cavalry with the golden lion flag?',\n",
       "  'options': {'a': 'Lady Seliane',\n",
       "   'b': 'King Elandor',\n",
       "   'c': 'Malgareth',\n",
       "   'd': 'Sevrik'},\n",
       "  'correct': 'a'},\n",
       " '5': {'mcq': 'What happened to Aranthor after the last battle?',\n",
       "  'options': {'a': 'It grew stronger',\n",
       "   'b': 'It was taken over by neighbors',\n",
       "   'c': 'It became a floating city',\n",
       "   'd': 'It disappeared into the sky'},\n",
       "  'correct': 'b'}}"
      ]
     },
     "execution_count": 20,
     "metadata": {},
     "output_type": "execute_result"
    }
   ],
   "source": [
    "response2 = final_chain.invoke({\n",
    "    \"text\": TEXT,\n",
    "    \"number\": NUMBER,\n",
    "    \"subject\": SUBJECT,\n",
    "    \"tone\":TONE,\n",
    "    \"response_json\": json.dumps(RESPONSE_JSON)\n",
    "})\n",
    "response2"
   ]
  },
  {
   "cell_type": "code",
   "execution_count": 21,
   "id": "2b51812a",
   "metadata": {},
   "outputs": [],
   "source": [
    "quiz_table_data = []\n",
    "\n",
    "for i in response2:\n",
    "    question = response2[i]['mcq']\n",
    "    options = response2[i][\"options\"]\n",
    "    option_str = \"\"\n",
    "    for j, k in options.items():\n",
    "        option_str = option_str + f\" {j}: {k} |\"\n",
    "    corect_answer = response2[i][\"correct\"]\n",
    "    \n",
    "    quiz_table_data.append({\"MCQ\": question, \"Choices\": option_str[:-1], \"Correct\": corect_answer})"
   ]
  },
  {
   "cell_type": "code",
   "execution_count": 22,
   "id": "f5d24551",
   "metadata": {},
   "outputs": [
    {
     "data": {
      "text/plain": [
       "[{'MCQ': 'Who was the last king of Aranthor?',\n",
       "  'Choices': ' a: Malgareth | b: Elandor | c: Sevrik | d: Elyndra ',\n",
       "  'Correct': 'b'},\n",
       " {'MCQ': 'What was the name of the secret group that tried to overthrow Aranthor?',\n",
       "  'Choices': ' a: Ebon Serpents | b: Silver Lions | c: Golden Lions | d: Night Watch ',\n",
       "  'Correct': 'a'},\n",
       " {'MCQ': 'Which item did King Elandor want to win the war?',\n",
       "  'Choices': ' a: Crown of Solaris | b: Sword of Dawn | c: Shield of Veylara | d: Orb of Light ',\n",
       "  'Correct': 'a'},\n",
       " {'MCQ': 'Who commanded the cavalry with the golden lion flag?',\n",
       "  'Choices': ' a: Lady Seliane | b: King Elandor | c: Malgareth | d: Sevrik ',\n",
       "  'Correct': 'a'},\n",
       " {'MCQ': 'What happened to Aranthor after the last battle?',\n",
       "  'Choices': ' a: It grew stronger | b: It was taken over by neighbors | c: It became a floating city | d: It disappeared into the sky ',\n",
       "  'Correct': 'b'}]"
      ]
     },
     "execution_count": 22,
     "metadata": {},
     "output_type": "execute_result"
    }
   ],
   "source": [
    "quiz_table_data"
   ]
  },
  {
   "cell_type": "code",
   "execution_count": 23,
   "id": "2486a588",
   "metadata": {},
   "outputs": [
    {
     "data": {
      "text/html": [
       "<div>\n",
       "<style scoped>\n",
       "    .dataframe tbody tr th:only-of-type {\n",
       "        vertical-align: middle;\n",
       "    }\n",
       "\n",
       "    .dataframe tbody tr th {\n",
       "        vertical-align: top;\n",
       "    }\n",
       "\n",
       "    .dataframe thead th {\n",
       "        text-align: right;\n",
       "    }\n",
       "</style>\n",
       "<table border=\"1\" class=\"dataframe\">\n",
       "  <thead>\n",
       "    <tr style=\"text-align: right;\">\n",
       "      <th></th>\n",
       "      <th>MCQ</th>\n",
       "      <th>Choices</th>\n",
       "      <th>Correct</th>\n",
       "    </tr>\n",
       "  </thead>\n",
       "  <tbody>\n",
       "    <tr>\n",
       "      <th>0</th>\n",
       "      <td>Who was the last king of Aranthor?</td>\n",
       "      <td>a: Malgareth | b: Elandor | c: Sevrik | d: El...</td>\n",
       "      <td>b</td>\n",
       "    </tr>\n",
       "    <tr>\n",
       "      <th>1</th>\n",
       "      <td>What was the name of the secret group that tri...</td>\n",
       "      <td>a: Ebon Serpents | b: Silver Lions | c: Golde...</td>\n",
       "      <td>a</td>\n",
       "    </tr>\n",
       "    <tr>\n",
       "      <th>2</th>\n",
       "      <td>Which item did King Elandor want to win the war?</td>\n",
       "      <td>a: Crown of Solaris | b: Sword of Dawn | c: S...</td>\n",
       "      <td>a</td>\n",
       "    </tr>\n",
       "    <tr>\n",
       "      <th>3</th>\n",
       "      <td>Who commanded the cavalry with the golden lion...</td>\n",
       "      <td>a: Lady Seliane | b: King Elandor | c: Malgar...</td>\n",
       "      <td>a</td>\n",
       "    </tr>\n",
       "    <tr>\n",
       "      <th>4</th>\n",
       "      <td>What happened to Aranthor after the last battle?</td>\n",
       "      <td>a: It grew stronger | b: It was taken over by...</td>\n",
       "      <td>b</td>\n",
       "    </tr>\n",
       "  </tbody>\n",
       "</table>\n",
       "</div>"
      ],
      "text/plain": [
       "                                                 MCQ  \\\n",
       "0                 Who was the last king of Aranthor?   \n",
       "1  What was the name of the secret group that tri...   \n",
       "2   Which item did King Elandor want to win the war?   \n",
       "3  Who commanded the cavalry with the golden lion...   \n",
       "4   What happened to Aranthor after the last battle?   \n",
       "\n",
       "                                             Choices Correct  \n",
       "0   a: Malgareth | b: Elandor | c: Sevrik | d: El...       b  \n",
       "1   a: Ebon Serpents | b: Silver Lions | c: Golde...       a  \n",
       "2   a: Crown of Solaris | b: Sword of Dawn | c: S...       a  \n",
       "3   a: Lady Seliane | b: King Elandor | c: Malgar...       a  \n",
       "4   a: It grew stronger | b: It was taken over by...       b  "
      ]
     },
     "execution_count": 23,
     "metadata": {},
     "output_type": "execute_result"
    }
   ],
   "source": [
    "import pandas as pd\n",
    "quiz = pd.DataFrame(quiz_table_data)\n",
    "quiz"
   ]
  },
  {
   "cell_type": "code",
   "execution_count": 24,
   "id": "d5c92b7b",
   "metadata": {},
   "outputs": [],
   "source": [
    "quiz.to_csv(\"kingdom.csv\", index=False)"
   ]
  },
  {
   "cell_type": "code",
   "execution_count": null,
   "id": "b3625173",
   "metadata": {},
   "outputs": [],
   "source": []
  }
 ],
 "metadata": {
  "kernelspec": {
   "display_name": "base",
   "language": "python",
   "name": "python3"
  },
  "language_info": {
   "codemirror_mode": {
    "name": "ipython",
    "version": 3
   },
   "file_extension": ".py",
   "mimetype": "text/x-python",
   "name": "python",
   "nbconvert_exporter": "python",
   "pygments_lexer": "ipython3",
   "version": "3.12.7"
  }
 },
 "nbformat": 4,
 "nbformat_minor": 5
}
